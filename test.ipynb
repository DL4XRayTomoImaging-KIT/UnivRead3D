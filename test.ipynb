{
 "cells": [
  {
   "cell_type": "code",
   "execution_count": 1,
   "id": "8366f42c",
   "metadata": {},
   "outputs": [],
   "source": [
    "import os\n",
    "import time\n",
    "import numpy as np\n",
    "from glob import glob\n",
    "from tqdm.auto import tqdm\n",
    "import matplotlib.pyplot as plt\n",
    "\n",
    "import nrrd\n",
    "import tifffile\n",
    "import nibabel as nib\n",
    "from medpy.io import load as medload\n",
    "from medpy.io import save as medsave\n",
    "from skimage.io import imread as skimread"
   ]
  },
  {
   "cell_type": "code",
   "execution_count": 10,
   "id": "f765cbdd",
   "metadata": {},
   "outputs": [],
   "source": [
    "f_tiff = 'sample_files/sample.tiff'\n",
    "f_nrrd = 'sample_files/sample.nrrd'\n",
    "f_nii = 'sample_files/sample.nii'\n",
    "f_npy = 'sample_files/sample.npy'"
   ]
  },
  {
   "cell_type": "markdown",
   "id": "10153aa5",
   "metadata": {},
   "source": [
    "## save a random image"
   ]
  },
  {
   "cell_type": "code",
   "execution_count": null,
   "id": "3fafdee6",
   "metadata": {},
   "outputs": [],
   "source": [
    "ext = '.tiff'\n",
    "for i in range(1,11):\n",
    "  fname = f'sample_files/sample_tiffs3d/sample{i}{ext}'\n",
    "  img = np.random.randint(256, size=(16,32,64), dtype=np.uint8)\n",
    "\n",
    "  if ext == '.tiff':\n",
    "    tifffile.imwrite(fname,img)\n",
    "  elif ext == '.npy':\n",
    "    np.save(fname, img)\n",
    "  else:\n",
    "    medsave(img, fname)"
   ]
  },
  {
   "cell_type": "code",
   "execution_count": 104,
   "id": "c7faa912",
   "metadata": {},
   "outputs": [],
   "source": [
    "img = np.random.randint(256, size=(2056,1024,1024), dtype=np.uint8)"
   ]
  },
  {
   "cell_type": "code",
   "execution_count": 11,
   "id": "42793a64",
   "metadata": {},
   "outputs": [],
   "source": [
    "tifffile.imwrite(f_tiff, img)\n",
    "medsave(img, f_nrrd)\n",
    "medsave(img, f_nii)\n",
    "np.save(f_npy, img)"
   ]
  },
  {
   "cell_type": "markdown",
   "id": "c3656602",
   "metadata": {},
   "source": [
    "## Compare loading times"
   ]
  },
  {
   "cell_type": "markdown",
   "id": "95259460",
   "metadata": {},
   "source": [
    "### tiff readers"
   ]
  },
  {
   "cell_type": "code",
   "execution_count": 60,
   "id": "04a76f9a",
   "metadata": {},
   "outputs": [
    {
     "name": "stdout",
     "output_type": "stream",
     "text": [
      "1.44 s ± 14.1 ms per loop (mean ± std. dev. of 100 runs, 1 loop each)\n"
     ]
    }
   ],
   "source": [
    "%timeit -r 100 tifffile.imread(f_tiff)"
   ]
  },
  {
   "cell_type": "code",
   "execution_count": 61,
   "id": "88f21aae",
   "metadata": {},
   "outputs": [
    {
     "name": "stdout",
     "output_type": "stream",
     "text": [
      "2.45 s ± 35.7 ms per loop (mean ± std. dev. of 100 runs, 1 loop each)\n"
     ]
    }
   ],
   "source": [
    "%timeit -r 100 medload(f_tiff)"
   ]
  },
  {
   "cell_type": "code",
   "execution_count": 62,
   "id": "1c76d78b",
   "metadata": {},
   "outputs": [
    {
     "name": "stdout",
     "output_type": "stream",
     "text": [
      "1.44 s ± 13 ms per loop (mean ± std. dev. of 100 runs, 1 loop each)\n"
     ]
    }
   ],
   "source": [
    "%timeit -r 100 skimread(f_tiff)"
   ]
  },
  {
   "cell_type": "markdown",
   "id": "54bdbd03",
   "metadata": {},
   "source": [
    "### nrrd readers"
   ]
  },
  {
   "cell_type": "code",
   "execution_count": 65,
   "id": "661009e8",
   "metadata": {},
   "outputs": [
    {
     "name": "stdout",
     "output_type": "stream",
     "text": [
      "950 ms ± 3.86 ms per loop (mean ± std. dev. of 100 runs, 1 loop each)\n"
     ]
    }
   ],
   "source": [
    "%timeit -r 100 nrrd.read(f_nrrd)"
   ]
  },
  {
   "cell_type": "code",
   "execution_count": 66,
   "id": "ca08e085",
   "metadata": {},
   "outputs": [
    {
     "name": "stdout",
     "output_type": "stream",
     "text": [
      "2.53 s ± 30.7 ms per loop (mean ± std. dev. of 100 runs, 1 loop each)\n"
     ]
    }
   ],
   "source": [
    "%timeit -r 100 medload(f_nrrd)"
   ]
  },
  {
   "cell_type": "code",
   "execution_count": 67,
   "id": "5d2cbedf",
   "metadata": {},
   "outputs": [
    {
     "name": "stdout",
     "output_type": "stream",
     "text": [
      "2.54 s ± 32.4 ms per loop (mean ± std. dev. of 100 runs, 1 loop each)\n"
     ]
    }
   ],
   "source": [
    "%timeit -r 100 skimread(f_nrrd)"
   ]
  },
  {
   "cell_type": "markdown",
   "id": "4d928d47",
   "metadata": {},
   "source": [
    "### nii readers"
   ]
  },
  {
   "cell_type": "code",
   "execution_count": 40,
   "id": "702d0726",
   "metadata": {},
   "outputs": [
    {
     "name": "stdout",
     "output_type": "stream",
     "text": [
      "450 µs ± 5.39 µs per loop (mean ± std. dev. of 100 runs, 1000 loops each)\n"
     ]
    }
   ],
   "source": [
    "%timeit -r 100 nib.load(f_nii)"
   ]
  },
  {
   "cell_type": "code",
   "execution_count": 33,
   "id": "7069282d",
   "metadata": {},
   "outputs": [
    {
     "name": "stdout",
     "output_type": "stream",
     "text": [
      "893 ms ± 1.71 ms per loop (mean ± std. dev. of 100 runs, 1 loop each)\n"
     ]
    }
   ],
   "source": [
    "%timeit -r 100 np.array(nib.load(f_nii).dataobj)"
   ]
  },
  {
   "cell_type": "code",
   "execution_count": 68,
   "id": "c3ff093a",
   "metadata": {},
   "outputs": [
    {
     "name": "stdout",
     "output_type": "stream",
     "text": [
      "3.54 s ± 30.7 ms per loop (mean ± std. dev. of 100 runs, 1 loop each)\n"
     ]
    }
   ],
   "source": [
    "%timeit -r 100 medload(f_nii)"
   ]
  },
  {
   "cell_type": "code",
   "execution_count": 69,
   "id": "5a24e9c2",
   "metadata": {},
   "outputs": [
    {
     "name": "stdout",
     "output_type": "stream",
     "text": [
      "3.54 s ± 28.8 ms per loop (mean ± std. dev. of 100 runs, 1 loop each)\n"
     ]
    }
   ],
   "source": [
    "%timeit -r 100 skimread(f_nii)"
   ]
  },
  {
   "cell_type": "code",
   "execution_count": 41,
   "id": "687e38b3",
   "metadata": {},
   "outputs": [
    {
     "name": "stdout",
     "output_type": "stream",
     "text": [
      "10.1 s ± 64.3 ms per loop (mean ± std. dev. of 100 runs, 1 loop each)\n"
     ]
    }
   ],
   "source": [
    "%timeit -r 100 np.array(nib.load(f_nii).get_fdata())"
   ]
  },
  {
   "cell_type": "markdown",
   "id": "5a405819",
   "metadata": {},
   "source": [
    "## check reader"
   ]
  },
  {
   "cell_type": "code",
   "execution_count": 1,
   "id": "b84a6207",
   "metadata": {},
   "outputs": [],
   "source": [
    "import univread"
   ]
  },
  {
   "cell_type": "code",
   "execution_count": 2,
   "id": "46d3e97f",
   "metadata": {},
   "outputs": [
    {
     "data": {
      "text/plain": [
       "<module 'univread' from '/home/ws/er5241/Repos/UnivRead3D/univread/__init__.py'>"
      ]
     },
     "execution_count": 2,
     "metadata": {},
     "output_type": "execute_result"
    }
   ],
   "source": [
    "from importlib import reload\n",
    "reload(univread)"
   ]
  },
  {
   "cell_type": "code",
   "execution_count": 3,
   "id": "b17e9015",
   "metadata": {},
   "outputs": [
    {
     "name": "stdout",
     "output_type": "stream",
     "text": [
      "<class 'numpy.ndarray'>\n",
      "(160, 32, 64)\n"
     ]
    }
   ],
   "source": [
    "img = univread.read('sample_files/sample_tiffs3d')\n",
    "print(type(img))\n",
    "print(img.shape)"
   ]
  },
  {
   "cell_type": "code",
   "execution_count": 4,
   "id": "38ad5f3e",
   "metadata": {},
   "outputs": [
    {
     "name": "stdout",
     "output_type": "stream",
     "text": [
      "<class 'numpy.ndarray'>\n",
      "(64, 32, 16)\n"
     ]
    }
   ],
   "source": [
    "# check .nii.gz sample\n",
    "\n",
    "img = univread.read('sample_files/sample.nii.gz')\n",
    "print(type(img))\n",
    "print(img.shape)"
   ]
  },
  {
   "cell_type": "code",
   "execution_count": 5,
   "id": "ab418d5d",
   "metadata": {},
   "outputs": [
    {
     "name": "stdout",
     "output_type": "stream",
     "text": [
      "<class 'numpy.ndarray'>\n",
      "(64, 32, 16)\n"
     ]
    },
    {
     "name": "stderr",
     "output_type": "stream",
     "text": [
      "/home/ws/er5241/Repos/UnivRead3D/univread/univ_read.py:44: UserWarning: unrecognized file extension, proceeding to load with medpy\n",
      "  warnings.warn('unrecognized file extension, proceeding to load with medpy')\n"
     ]
    }
   ],
   "source": [
    "# check unknown sample\n",
    "\n",
    "img = univread.read('sample_files/sample.mha')\n",
    "print(type(img))\n",
    "print(img.shape)"
   ]
  },
  {
   "cell_type": "code",
   "execution_count": 4,
   "id": "7975e948",
   "metadata": {},
   "outputs": [
    {
     "name": "stdout",
     "output_type": "stream",
     "text": [
      "True True True True\n"
     ]
    }
   ],
   "source": [
    "# check if all match\n",
    "\n",
    "a,b,c = univread.read(f_tiff), univread.read(f_nii), univread.read(f_nrrd)\n",
    "d,e = univread.read('sample_files/sample.nii.gz'), univread.read('sample_files/sample.npy')\n",
    "\n",
    "print((a==b).any(), (b==c).any(), (c==d).any(), (d==e).any())"
   ]
  },
  {
   "cell_type": "markdown",
   "id": "919c0e7a",
   "metadata": {},
   "source": [
    "## check mem-mapping"
   ]
  },
  {
   "cell_type": "code",
   "execution_count": 8,
   "id": "bf966e07",
   "metadata": {},
   "outputs": [],
   "source": [
    "%load_ext memory_profiler"
   ]
  },
  {
   "cell_type": "markdown",
   "id": "1cd3a2ea",
   "metadata": {},
   "source": [
    "### tiff"
   ]
  },
  {
   "cell_type": "code",
   "execution_count": 23,
   "id": "d04c30c4",
   "metadata": {},
   "outputs": [
    {
     "name": "stdout",
     "output_type": "stream",
     "text": [
      "peak memory: 4222.41 MiB, increment: 1969.08 MiB\n"
     ]
    }
   ],
   "source": [
    "%memit univread.read(f_tiff, lazy=False)"
   ]
  },
  {
   "cell_type": "code",
   "execution_count": 17,
   "id": "69f52b44",
   "metadata": {},
   "outputs": [
    {
     "name": "stdout",
     "output_type": "stream",
     "text": [
      "peak memory: 2253.32 MiB, increment: 0.20 MiB\n"
     ]
    }
   ],
   "source": [
    "%memit univread.read(f_tiff, lazy=True)"
   ]
  },
  {
   "cell_type": "code",
   "execution_count": 26,
   "id": "c8ebc67c",
   "metadata": {},
   "outputs": [
    {
     "name": "stdout",
     "output_type": "stream",
     "text": [
      "<class 'numpy.ndarray'>\n",
      "<class 'numpy.memmap'>\n"
     ]
    }
   ],
   "source": [
    "print(type(univread.read(f_tiff, lazy=False)))\n",
    "print(type(univread.read(f_tiff, lazy=True)))"
   ]
  },
  {
   "cell_type": "markdown",
   "id": "9387204e",
   "metadata": {},
   "source": [
    "### nii"
   ]
  },
  {
   "cell_type": "code",
   "execution_count": 24,
   "id": "5eb8504b",
   "metadata": {},
   "outputs": [
    {
     "name": "stdout",
     "output_type": "stream",
     "text": [
      "peak memory: 5932.89 MiB, increment: 3679.56 MiB\n"
     ]
    }
   ],
   "source": [
    "%memit univread.read(f_nii, lazy=False)"
   ]
  },
  {
   "cell_type": "code",
   "execution_count": 25,
   "id": "b8a87828",
   "metadata": {},
   "outputs": [
    {
     "name": "stdout",
     "output_type": "stream",
     "text": [
      "peak memory: 2253.39 MiB, increment: 0.00 MiB\n"
     ]
    }
   ],
   "source": [
    "%memit univread.read(f_nii, lazy=True)"
   ]
  },
  {
   "cell_type": "code",
   "execution_count": 5,
   "id": "36b69b01",
   "metadata": {},
   "outputs": [
    {
     "name": "stdout",
     "output_type": "stream",
     "text": [
      "<class 'numpy.ndarray'>\n",
      "<class 'numpy.memmap'>\n"
     ]
    }
   ],
   "source": [
    "print(type(univread.read(f_nii, lazy=False)))\n",
    "print(type(univread.read(f_nii, lazy=True)))"
   ]
  },
  {
   "cell_type": "markdown",
   "id": "4534370f",
   "metadata": {},
   "source": [
    "### npy"
   ]
  },
  {
   "cell_type": "code",
   "execution_count": 12,
   "id": "6bb2f3ff",
   "metadata": {},
   "outputs": [
    {
     "name": "stdout",
     "output_type": "stream",
     "text": [
      "peak memory: 2197.21 MiB, increment: 1995.72 MiB\n"
     ]
    }
   ],
   "source": [
    "%memit univread.read(f_npy, lazy=False)"
   ]
  },
  {
   "cell_type": "code",
   "execution_count": 13,
   "id": "1fd39c53",
   "metadata": {},
   "outputs": [
    {
     "name": "stdout",
     "output_type": "stream",
     "text": [
      "peak memory: 201.55 MiB, increment: 0.00 MiB\n"
     ]
    }
   ],
   "source": [
    "%memit univread.read(f_npy, lazy=True)"
   ]
  },
  {
   "cell_type": "code",
   "execution_count": 14,
   "id": "4f8386d0",
   "metadata": {},
   "outputs": [
    {
     "name": "stdout",
     "output_type": "stream",
     "text": [
      "<class 'numpy.ndarray'>\n",
      "<class 'numpy.memmap'>\n"
     ]
    }
   ],
   "source": [
    "print(type(univread.read(f_npy, lazy=False)))\n",
    "print(type(univread.read(f_npy, lazy=True)))"
   ]
  },
  {
   "cell_type": "markdown",
   "id": "a34d2c15",
   "metadata": {},
   "source": [
    "### dir containing tiffs"
   ]
  },
  {
   "cell_type": "code",
   "execution_count": 5,
   "id": "5aff65a4",
   "metadata": {},
   "outputs": [
    {
     "name": "stdout",
     "output_type": "stream",
     "text": [
      "peak memory: 16578.19 MiB, increment: 16367.24 MiB\n"
     ]
    }
   ],
   "source": [
    "%memit univread.read(\"/home/ws/er5241/Repos/UnivRead3D/sample_files/sample_tiffs3d/\", lazy=False)"
   ]
  },
  {
   "cell_type": "code",
   "execution_count": 6,
   "id": "eea3c181",
   "metadata": {},
   "outputs": [
    {
     "name": "stdout",
     "output_type": "stream",
     "text": [
      "peak memory: 211.87 MiB, increment: 1.35 MiB\n"
     ]
    }
   ],
   "source": [
    "%memit univread.read(\"/home/ws/er5241/Repos/UnivRead3D/sample_files/sample_tiffs3d/\", lazy=True)"
   ]
  },
  {
   "cell_type": "code",
   "execution_count": 7,
   "id": "3ae55f22",
   "metadata": {},
   "outputs": [],
   "source": [
    "x1 = univread.read(\"/home/ws/er5241/Repos/UnivRead3D/sample_files/sample_tiffs3d/\", lazy=False)\n",
    "x2 = univread.read(\"/home/ws/er5241/Repos/UnivRead3D/sample_files/sample_tiffs3d/\", lazy=True)"
   ]
  },
  {
   "cell_type": "code",
   "execution_count": 8,
   "id": "7d47e2bd",
   "metadata": {},
   "outputs": [
    {
     "name": "stdout",
     "output_type": "stream",
     "text": [
      "(8224, 1024, 1024)\n",
      "(8224, 1024, 1024)\n",
      "True\n"
     ]
    }
   ],
   "source": [
    "print(x1.shape)\n",
    "print(x2.shape)\n",
    "print((x1==x2).all())"
   ]
  },
  {
   "cell_type": "markdown",
   "id": "cf7bf858",
   "metadata": {},
   "source": [
    "### multi-page tiff"
   ]
  },
  {
   "cell_type": "code",
   "execution_count": 9,
   "id": "c47042dc",
   "metadata": {},
   "outputs": [
    {
     "name": "stdout",
     "output_type": "stream",
     "text": [
      "peak memory: 220293.99 MiB, increment: 203634.88 MiB\n"
     ]
    }
   ],
   "source": [
    "%memit univread.read('/mnt/HD-LSDF/Medaka/201912_beamtime_medaka/Medaka_1422_140-3/slices.tif', lazy=False)"
   ]
  },
  {
   "cell_type": "code",
   "execution_count": 5,
   "id": "d20397fa",
   "metadata": {},
   "outputs": [
    {
     "name": "stdout",
     "output_type": "stream",
     "text": [
      "peak memory: 215.26 MiB, increment: 32.51 MiB\n"
     ]
    }
   ],
   "source": [
    "%memit univread.read('/mnt/HD-LSDF/Medaka/201912_beamtime_medaka/Medaka_1422_140-3/slices.tif', lazy=True)"
   ]
  },
  {
   "cell_type": "code",
   "execution_count": 6,
   "id": "a25d1791",
   "metadata": {},
   "outputs": [],
   "source": [
    "x1 = univread.read('/mnt/HD-LSDF/Medaka/201912_beamtime_medaka/Medaka_1422_140-3/slices.tif', lazy=False)\n",
    "x2 = univread.read('/mnt/HD-LSDF/Medaka/201912_beamtime_medaka/Medaka_1422_140-3/slices.tif', lazy=True)"
   ]
  },
  {
   "cell_type": "code",
   "execution_count": 7,
   "id": "9be885db",
   "metadata": {},
   "outputs": [
    {
     "name": "stdout",
     "output_type": "stream",
     "text": [
      "(6571, 2016, 2016)\n",
      "(6571, 2016, 2016)\n",
      "True\n"
     ]
    }
   ],
   "source": [
    "print(x1.shape)\n",
    "print(x2.shape)\n",
    "print((x1==x2).all())"
   ]
  }
 ],
 "metadata": {
  "kernelspec": {
   "display_name": "Python 3 (ipykernel)",
   "language": "python",
   "name": "python3"
  },
  "language_info": {
   "codemirror_mode": {
    "name": "ipython",
    "version": 3
   },
   "file_extension": ".py",
   "mimetype": "text/x-python",
   "name": "python",
   "nbconvert_exporter": "python",
   "pygments_lexer": "ipython3",
   "version": "3.9.12"
  }
 },
 "nbformat": 4,
 "nbformat_minor": 5
}
