{
 "cells": [
  {
   "cell_type": "code",
   "execution_count": 21,
   "id": "8366f42c",
   "metadata": {},
   "outputs": [],
   "source": [
    "import time\n",
    "import numpy as np\n",
    "import matplotlib.pyplot as plt\n",
    "\n",
    "import nrrd\n",
    "import tifffile\n",
    "import nibabel as nib\n",
    "from medpy.io import load as medload\n",
    "from medpy.io import save as medsave\n",
    "from skimage.io import imread as skimread"
   ]
  },
  {
   "cell_type": "markdown",
   "id": "10153aa5",
   "metadata": {},
   "source": [
    "save a random image"
   ]
  },
  {
   "cell_type": "code",
   "execution_count": 2,
   "id": "c7faa912",
   "metadata": {},
   "outputs": [],
   "source": [
    "img = np.random.randint(256, size=(2056,1024,1024), dtype=np.uint8)"
   ]
  },
  {
   "cell_type": "code",
   "execution_count": 3,
   "id": "627b1d18",
   "metadata": {},
   "outputs": [],
   "source": [
    "f_tiff = 'sample.tiff'\n",
    "f_nrrd = 'sample.nrrd'\n",
    "f_nii = 'sample.nii'"
   ]
  },
  {
   "cell_type": "code",
   "execution_count": 4,
   "id": "42793a64",
   "metadata": {},
   "outputs": [],
   "source": [
    "medsave(img, f_tiff)\n",
    "medsave(img, f_nrrd)\n",
    "medsave(img, f_nii)"
   ]
  },
  {
   "cell_type": "markdown",
   "id": "c3656602",
   "metadata": {},
   "source": [
    "Compare loading times"
   ]
  },
  {
   "cell_type": "code",
   "execution_count": 12,
   "id": "452f52c5",
   "metadata": {},
   "outputs": [],
   "source": [
    "def time_func(func):\n",
    "    def inner(*args, **kwargs):\n",
    "        start_time = time.time()\n",
    "        return_val = func(*args, **kwargs)\n",
    "        print(time.time() - start_time)\n",
    "        return return_val\n",
    "    return inner"
   ]
  },
  {
   "cell_type": "code",
   "execution_count": 49,
   "id": "5bab588a",
   "metadata": {},
   "outputs": [
    {
     "name": "stdout",
     "output_type": "stream",
     "text": [
      "tifffile readers\n",
      "1.3158376216888428\n",
      "(1024, 1024, 2056) \n",
      "\n",
      "2.1882121562957764\n",
      "(2056, 1024, 1024) \n",
      "\n",
      "1.2671916484832764\n",
      "(1024, 1024, 2056) \n",
      "\n"
     ]
    }
   ],
   "source": [
    "print('tifffile readers')\n",
    "img = time_func(tifffile.imread)(f_tiff)\n",
    "print(img.shape, '\\n')\n",
    "\n",
    "img = time_func(medload)(f_tiff)[0]\n",
    "print(img.shape, '\\n')\n",
    "\n",
    "img = time_func(skimread)(f_tiff)\n",
    "print(img.shape, '\\n')"
   ]
  },
  {
   "cell_type": "code",
   "execution_count": 41,
   "id": "623aec21",
   "metadata": {},
   "outputs": [
    {
     "name": "stdout",
     "output_type": "stream",
     "text": [
      "nrrd readers\n",
      "0.8024811744689941\n",
      "(2056, 1024, 1024) \n",
      "\n",
      "2.719464063644409\n",
      "(2056, 1024, 1024) \n",
      "\n",
      "2.6935670375823975\n",
      "(1024, 1024, 2056) \n",
      "\n"
     ]
    }
   ],
   "source": [
    "print('nrrd readers')\n",
    "img = time_func(nrrd.read)(f_nrrd)[0]\n",
    "print(img.shape, '\\n')\n",
    "\n",
    "img = time_func(medload)(f_nrrd)[0]\n",
    "print(img.shape, '\\n')\n",
    "\n",
    "img = time_func(skimread)(f_nrrd)\n",
    "print(img.shape, '\\n')"
   ]
  },
  {
   "cell_type": "code",
   "execution_count": 37,
   "id": "4fd44cce",
   "metadata": {},
   "outputs": [
    {
     "name": "stdout",
     "output_type": "stream",
     "text": [
      "nii readers\n",
      "4.178886651992798\n",
      "(2056, 1024, 1024) \n",
      "\n",
      "3.477632999420166\n",
      "(2056, 1024, 1024) \n",
      "\n",
      "3.880749464035034\n",
      "(1024, 1024, 2056) \n",
      "\n"
     ]
    }
   ],
   "source": [
    "print('nii readers')\n",
    "img = time_func(lambda x: nib.load(x).get_fdata())(f_nii)\n",
    "print(img.shape, '\\n')\n",
    "\n",
    "img = time_func(medload)(f_nii)[0]\n",
    "print(img.shape, '\\n')\n",
    "\n",
    "img = time_func(skimread)(f_nii)\n",
    "print(img.shape, '\\n')"
   ]
  },
  {
   "cell_type": "code",
   "execution_count": 17,
   "id": "50b25379",
   "metadata": {},
   "outputs": [],
   "source": []
  }
 ],
 "metadata": {
  "kernelspec": {
   "display_name": "Python 3 (ipykernel)",
   "language": "python",
   "name": "python3"
  },
  "language_info": {
   "codemirror_mode": {
    "name": "ipython",
    "version": 3
   },
   "file_extension": ".py",
   "mimetype": "text/x-python",
   "name": "python",
   "nbconvert_exporter": "python",
   "pygments_lexer": "ipython3",
   "version": "3.8.5"
  }
 },
 "nbformat": 4,
 "nbformat_minor": 5
}
