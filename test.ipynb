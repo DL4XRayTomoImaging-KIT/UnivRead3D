{
 "cells": [
  {
   "cell_type": "code",
   "execution_count": 1,
   "id": "8366f42c",
   "metadata": {},
   "outputs": [],
   "source": [
    "import os\n",
    "import time\n",
    "import numpy as np\n",
    "from glob import glob\n",
    "from tqdm.auto import tqdm\n",
    "import matplotlib.pyplot as plt\n",
    "\n",
    "import nrrd\n",
    "import tifffile\n",
    "import nibabel as nib\n",
    "from medpy.io import load as medload\n",
    "from medpy.io import save as medsave\n",
    "from skimage.io import imread as skimread"
   ]
  },
  {
   "cell_type": "code",
   "execution_count": 2,
   "id": "f765cbdd",
   "metadata": {},
   "outputs": [],
   "source": [
    "f_tiff = 'sample_files/sample.tiff'\n",
    "f_nrrd = 'sample_files/sample.nrrd'\n",
    "f_nii = 'sample_files/sample.nii'"
   ]
  },
  {
   "cell_type": "markdown",
   "id": "10153aa5",
   "metadata": {},
   "source": [
    "## save a random image"
   ]
  },
  {
   "cell_type": "code",
   "execution_count": 3,
   "id": "3fafdee6",
   "metadata": {},
   "outputs": [],
   "source": [
    "for i in range(1,11):\n",
    "    fname = f'sample_files/sample_tiffs2d/sample{i}.tiff'\n",
    "    img = np.random.randint(256, size=(32,16), dtype=np.uint8)\n",
    "    medsave(img, fname)"
   ]
  },
  {
   "cell_type": "code",
   "execution_count": 10,
   "id": "c7faa912",
   "metadata": {},
   "outputs": [],
   "source": [
    "img = np.random.randint(256, size=(2056,1024,1024), dtype=np.uint8)"
   ]
  },
  {
   "cell_type": "code",
   "execution_count": 11,
   "id": "bb97de7c",
   "metadata": {},
   "outputs": [],
   "source": [
    "tifffile.imwrite(f_tiff, img)"
   ]
  },
  {
   "cell_type": "code",
   "execution_count": 5,
   "id": "42793a64",
   "metadata": {},
   "outputs": [],
   "source": [
    "medsave(img, f_tiff)\n",
    "medsave(img, f_nrrd)\n",
    "medsave(img, f_nii)"
   ]
  },
  {
   "cell_type": "markdown",
   "id": "c3656602",
   "metadata": {},
   "source": [
    "## Compare loading times"
   ]
  },
  {
   "cell_type": "code",
   "execution_count": null,
   "id": "6c72cce2",
   "metadata": {},
   "outputs": [],
   "source": [
    "def time_func(func):\n",
    "    def inner(*args, **kwargs):\n",
    "        start_time = time.time()\n",
    "        return_val = func(*args, **kwargs)\n",
    "        print(time.time() - start_time)\n",
    "        return return_val\n",
    "    return inner"
   ]
  },
  {
   "cell_type": "code",
   "execution_count": 20,
   "id": "c07d5239",
   "metadata": {},
   "outputs": [],
   "source": [
    "def option1(file_):\n",
    "  if os.path.isdir(file_):\n",
    "    fprefix = os.path.join(file_, '*.tif*')\n",
    "    fnames = sorted(glob(fprefix))\n",
    " \n",
    "    file_0 = tifffile.TiffFile(fnames[0]).asarray()\n",
    "    if len(file_0.shape) == 2:\n",
    "      img = np.stack([tifffile.imread(fname) for fname in fnames])\n",
    "    else:\n",
    "      img = np.concatenate([tifffile.imread(fname) for fname in fnames], dtype=file_0.dtype)\n",
    "def option2(file_):\n",
    "  if os.path.isdir(file_):\n",
    "    fprefix = os.path.join(file_, '*.tif*')\n",
    "    fnames = sorted(glob(fprefix))\n",
    " \n",
    "    file_0 = tifffile.TiffFile(fnames[0]).asarray()\n",
    "    #num_images = sum([len(tifffile.TiffFile(fname).pages) for fname in fnames])\n",
    "    num_images=160\n",
    "    #print(num_images)\n",
    "    fshape = file_0.shape[1:] if len(file_0.shape)>2 else file_0.shape\n",
    "    img = np.zeros((num_images, *fshape), dtype=file_0.dtype)\n",
    " \n",
    "    if len(file_0.shape)>2:\n",
    "      indx = 0\n",
    "      for i,fname in enumerate(fnames):\n",
    "        page = tifffile.imread(fname)\n",
    "        img[indx : indx+len(page)] = page\n",
    "        indx += len(page)\n",
    "    else:\n",
    "      for i,fname in enumerate(fnames):  \n",
    "        img[i] = tifffile.imread(fname)"
   ]
  },
  {
   "cell_type": "code",
   "execution_count": 16,
   "id": "e8f7c31d",
   "metadata": {},
   "outputs": [
    {
     "name": "stdout",
     "output_type": "stream",
     "text": [
      "13.3 ms ± 766 µs per loop (mean ± std. dev. of 100 runs, 10 loops each)\n"
     ]
    }
   ],
   "source": [
    "%timeit -r 100 -n 10 option1('sample_files/sample_tiffs3d')"
   ]
  },
  {
   "cell_type": "code",
   "execution_count": 69,
   "id": "b4eccdd4",
   "metadata": {},
   "outputs": [
    {
     "name": "stdout",
     "output_type": "stream",
     "text": [
      "13.4 ms ± 763 µs per loop (mean ± std. dev. of 100 runs, 10 loops each)\n"
     ]
    }
   ],
   "source": [
    "%timeit -r 100 -n 10 option2('sample_files/sample_tiffs3d')"
   ]
  },
  {
   "cell_type": "markdown",
   "id": "95259460",
   "metadata": {},
   "source": [
    "### tiff readers"
   ]
  },
  {
   "cell_type": "code",
   "execution_count": 60,
   "id": "04a76f9a",
   "metadata": {},
   "outputs": [
    {
     "name": "stdout",
     "output_type": "stream",
     "text": [
      "1.44 s ± 14.1 ms per loop (mean ± std. dev. of 100 runs, 1 loop each)\n"
     ]
    }
   ],
   "source": [
    "%timeit -r 100 tifffile.imread(f_tiff)"
   ]
  },
  {
   "cell_type": "code",
   "execution_count": 61,
   "id": "88f21aae",
   "metadata": {},
   "outputs": [
    {
     "name": "stdout",
     "output_type": "stream",
     "text": [
      "2.45 s ± 35.7 ms per loop (mean ± std. dev. of 100 runs, 1 loop each)\n"
     ]
    }
   ],
   "source": [
    "%timeit -r 100 medload(f_tiff)"
   ]
  },
  {
   "cell_type": "code",
   "execution_count": 62,
   "id": "1c76d78b",
   "metadata": {},
   "outputs": [
    {
     "name": "stdout",
     "output_type": "stream",
     "text": [
      "1.44 s ± 13 ms per loop (mean ± std. dev. of 100 runs, 1 loop each)\n"
     ]
    }
   ],
   "source": [
    "%timeit -r 100 skimread(f_tiff)"
   ]
  },
  {
   "cell_type": "markdown",
   "id": "54bdbd03",
   "metadata": {},
   "source": [
    "### nrrd readers"
   ]
  },
  {
   "cell_type": "code",
   "execution_count": 65,
   "id": "661009e8",
   "metadata": {},
   "outputs": [
    {
     "name": "stdout",
     "output_type": "stream",
     "text": [
      "950 ms ± 3.86 ms per loop (mean ± std. dev. of 100 runs, 1 loop each)\n"
     ]
    }
   ],
   "source": [
    "%timeit -r 100 nrrd.read(f_nrrd)"
   ]
  },
  {
   "cell_type": "code",
   "execution_count": 66,
   "id": "ca08e085",
   "metadata": {},
   "outputs": [
    {
     "name": "stdout",
     "output_type": "stream",
     "text": [
      "2.53 s ± 30.7 ms per loop (mean ± std. dev. of 100 runs, 1 loop each)\n"
     ]
    }
   ],
   "source": [
    "%timeit -r 100 medload(f_nrrd)"
   ]
  },
  {
   "cell_type": "code",
   "execution_count": 67,
   "id": "5d2cbedf",
   "metadata": {},
   "outputs": [
    {
     "name": "stdout",
     "output_type": "stream",
     "text": [
      "2.54 s ± 32.4 ms per loop (mean ± std. dev. of 100 runs, 1 loop each)\n"
     ]
    }
   ],
   "source": [
    "%timeit -r 100 skimread(f_nrrd)"
   ]
  },
  {
   "cell_type": "markdown",
   "id": "4d928d47",
   "metadata": {},
   "source": [
    "### nii readers"
   ]
  },
  {
   "cell_type": "code",
   "execution_count": 40,
   "id": "702d0726",
   "metadata": {},
   "outputs": [
    {
     "name": "stdout",
     "output_type": "stream",
     "text": [
      "450 µs ± 5.39 µs per loop (mean ± std. dev. of 100 runs, 1000 loops each)\n"
     ]
    }
   ],
   "source": [
    "%timeit -r 100 nib.load(f_nii)"
   ]
  },
  {
   "cell_type": "code",
   "execution_count": 33,
   "id": "7069282d",
   "metadata": {},
   "outputs": [
    {
     "name": "stdout",
     "output_type": "stream",
     "text": [
      "893 ms ± 1.71 ms per loop (mean ± std. dev. of 100 runs, 1 loop each)\n"
     ]
    }
   ],
   "source": [
    "%timeit -r 100 np.array(nib.load(f_nii).dataobj)"
   ]
  },
  {
   "cell_type": "code",
   "execution_count": 68,
   "id": "c3ff093a",
   "metadata": {},
   "outputs": [
    {
     "name": "stdout",
     "output_type": "stream",
     "text": [
      "3.54 s ± 30.7 ms per loop (mean ± std. dev. of 100 runs, 1 loop each)\n"
     ]
    }
   ],
   "source": [
    "%timeit -r 100 medload(f_nii)"
   ]
  },
  {
   "cell_type": "code",
   "execution_count": 69,
   "id": "5a24e9c2",
   "metadata": {},
   "outputs": [
    {
     "name": "stdout",
     "output_type": "stream",
     "text": [
      "3.54 s ± 28.8 ms per loop (mean ± std. dev. of 100 runs, 1 loop each)\n"
     ]
    }
   ],
   "source": [
    "%timeit -r 100 skimread(f_nii)"
   ]
  },
  {
   "cell_type": "code",
   "execution_count": 41,
   "id": "687e38b3",
   "metadata": {},
   "outputs": [
    {
     "name": "stdout",
     "output_type": "stream",
     "text": [
      "10.1 s ± 64.3 ms per loop (mean ± std. dev. of 100 runs, 1 loop each)\n"
     ]
    }
   ],
   "source": [
    "%timeit -r 100 np.array(nib.load(f_nii).get_fdata())"
   ]
  },
  {
   "cell_type": "markdown",
   "id": "5a405819",
   "metadata": {},
   "source": [
    "## check reader"
   ]
  },
  {
   "cell_type": "code",
   "execution_count": 6,
   "id": "b84a6207",
   "metadata": {},
   "outputs": [],
   "source": [
    "import univread"
   ]
  },
  {
   "cell_type": "code",
   "execution_count": 2,
   "id": "46d3e97f",
   "metadata": {},
   "outputs": [
    {
     "data": {
      "text/plain": [
       "<module 'univread' from '/home/ws/er5241/Repos/UnivRead3D/univread/__init__.py'>"
      ]
     },
     "execution_count": 2,
     "metadata": {},
     "output_type": "execute_result"
    }
   ],
   "source": [
    "from importlib import reload\n",
    "reload(univread)"
   ]
  },
  {
   "cell_type": "code",
   "execution_count": 3,
   "id": "b17e9015",
   "metadata": {},
   "outputs": [
    {
     "name": "stdout",
     "output_type": "stream",
     "text": [
      "<class 'numpy.ndarray'>\n",
      "(160, 32, 64)\n"
     ]
    }
   ],
   "source": [
    "img = univread.read('sample_files/sample_tiffs3d')\n",
    "print(type(img))\n",
    "print(img.shape)"
   ]
  },
  {
   "cell_type": "code",
   "execution_count": 4,
   "id": "38ad5f3e",
   "metadata": {},
   "outputs": [
    {
     "name": "stdout",
     "output_type": "stream",
     "text": [
      "<class 'numpy.ndarray'>\n",
      "(64, 32, 16)\n"
     ]
    }
   ],
   "source": [
    "# check .nii.gz sample\n",
    "\n",
    "img = univread.read('sample_files/sample.nii.gz')\n",
    "print(type(img))\n",
    "print(img.shape)"
   ]
  },
  {
   "cell_type": "code",
   "execution_count": 5,
   "id": "ab418d5d",
   "metadata": {},
   "outputs": [
    {
     "name": "stdout",
     "output_type": "stream",
     "text": [
      "<class 'numpy.ndarray'>\n",
      "(64, 32, 16)\n"
     ]
    },
    {
     "name": "stderr",
     "output_type": "stream",
     "text": [
      "/home/ws/er5241/Repos/UnivRead3D/univread/univ_read.py:44: UserWarning: unrecognized file extension, proceeding to load with medpy\n",
      "  warnings.warn('unrecognized file extension, proceeding to load with medpy')\n"
     ]
    }
   ],
   "source": [
    "# check unknown sample\n",
    "\n",
    "img = univread.read('sample_files/sample.mha')\n",
    "print(type(img))\n",
    "print(img.shape)"
   ]
  },
  {
   "cell_type": "markdown",
   "id": "de64a78f",
   "metadata": {},
   "source": [
    "## check mem-mapping"
   ]
  },
  {
   "cell_type": "code",
   "execution_count": 7,
   "id": "676a0b98",
   "metadata": {},
   "outputs": [],
   "source": [
    "%load_ext memory_profiler"
   ]
  },
  {
   "cell_type": "markdown",
   "id": "1e155ee8",
   "metadata": {},
   "source": [
    "### tiff"
   ]
  },
  {
   "cell_type": "code",
   "execution_count": 23,
   "id": "e82cc095",
   "metadata": {},
   "outputs": [
    {
     "name": "stdout",
     "output_type": "stream",
     "text": [
      "peak memory: 4222.41 MiB, increment: 1969.08 MiB\n"
     ]
    }
   ],
   "source": [
    "%memit univread.read('sample_files/sample.tiff', lazy=False)"
   ]
  },
  {
   "cell_type": "code",
   "execution_count": 17,
   "id": "cfe11a84",
   "metadata": {},
   "outputs": [
    {
     "name": "stdout",
     "output_type": "stream",
     "text": [
      "peak memory: 2253.32 MiB, increment: 0.20 MiB\n"
     ]
    }
   ],
   "source": [
    "%memit univread.read('sample_files/sample.tiff', lazy=True)"
   ]
  },
  {
   "cell_type": "code",
   "execution_count": 26,
   "id": "520c9c95",
   "metadata": {},
   "outputs": [
    {
     "name": "stdout",
     "output_type": "stream",
     "text": [
      "<class 'numpy.ndarray'>\n",
      "<class 'numpy.memmap'>\n"
     ]
    }
   ],
   "source": [
    "print(type(univread.read('sample_files/sample.tiff', lazy=False)))\n",
    "print(type(univread.read('sample_files/sample.tiff', lazy=True)))"
   ]
  },
  {
   "cell_type": "markdown",
   "id": "bd21fa5f",
   "metadata": {},
   "source": [
    "### nii"
   ]
  },
  {
   "cell_type": "code",
   "execution_count": 24,
   "id": "1d140a69",
   "metadata": {},
   "outputs": [
    {
     "name": "stdout",
     "output_type": "stream",
     "text": [
      "peak memory: 5932.89 MiB, increment: 3679.56 MiB\n"
     ]
    }
   ],
   "source": [
    "%memit univread.read('sample_files/sample.nii', lazy=False)"
   ]
  },
  {
   "cell_type": "code",
   "execution_count": 25,
   "id": "0b074e01",
   "metadata": {},
   "outputs": [
    {
     "name": "stdout",
     "output_type": "stream",
     "text": [
      "peak memory: 2253.39 MiB, increment: 0.00 MiB\n"
     ]
    }
   ],
   "source": [
    "%memit univread.read('sample_files/sample.nii', lazy=True)"
   ]
  },
  {
   "cell_type": "code",
   "execution_count": 28,
   "id": "900afd3b",
   "metadata": {},
   "outputs": [
    {
     "name": "stdout",
     "output_type": "stream",
     "text": [
      "<class 'numpy.ndarray'>\n",
      "<class 'nibabel.nifti1.Nifti1Image'>\n"
     ]
    }
   ],
   "source": [
    "print(type(univread.read('sample_files/sample.nii', lazy=False)))\n",
    "print(type(univread.read('sample_files/sample.nii', lazy=True)))"
   ]
  }
 ],
 "metadata": {
  "kernelspec": {
   "display_name": "Python 3 (ipykernel)",
   "language": "python",
   "name": "python3"
  },
  "language_info": {
   "codemirror_mode": {
    "name": "ipython",
    "version": 3
   },
   "file_extension": ".py",
   "mimetype": "text/x-python",
   "name": "python",
   "nbconvert_exporter": "python",
   "pygments_lexer": "ipython3",
   "version": "3.8.5"
  }
 },
 "nbformat": 4,
 "nbformat_minor": 5
}
