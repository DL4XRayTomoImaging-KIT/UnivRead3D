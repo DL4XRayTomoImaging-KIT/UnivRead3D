{
 "cells": [
  {
   "cell_type": "code",
   "execution_count": 12,
   "id": "8366f42c",
   "metadata": {},
   "outputs": [],
   "source": [
    "import time\n",
    "import numpy as np\n",
    "import matplotlib.pyplot as plt\n",
    "\n",
    "import nrrd\n",
    "import tifffile\n",
    "import nibabel as nib\n",
    "from medpy.io import load as medload\n",
    "from medpy.io import save as medsave\n",
    "from skimage.io import imread as skimread"
   ]
  },
  {
   "cell_type": "code",
   "execution_count": null,
   "id": "99b757d6",
   "metadata": {},
   "outputs": [],
   "source": [
    "f_tiff = 'sample.tiff'\n",
    "f_nrrd = 'sample.nrrd'\n",
    "f_nii = 'sample.nii'"
   ]
  },
  {
   "cell_type": "markdown",
   "id": "10153aa5",
   "metadata": {},
   "source": [
    "## save a random image"
   ]
  },
  {
   "cell_type": "code",
   "execution_count": 2,
   "id": "c7faa912",
   "metadata": {},
   "outputs": [],
   "source": [
    "img = np.random.randint(256, size=(2056,1024,1024), dtype=np.uint8)"
   ]
  },
  {
   "cell_type": "code",
   "execution_count": 4,
   "id": "42793a64",
   "metadata": {},
   "outputs": [],
   "source": [
    "medsave(img, f_tiff)\n",
    "medsave(img, f_nrrd)\n",
    "medsave(img, f_nii)"
   ]
  },
  {
   "cell_type": "markdown",
   "id": "c3656602",
   "metadata": {},
   "source": [
    "## Compare loading times"
   ]
  },
  {
   "cell_type": "code",
   "execution_count": null,
   "id": "99539820",
   "metadata": {},
   "outputs": [],
   "source": [
    "def time_func(func):\n",
    "    def inner(*args, **kwargs):\n",
    "        start_time = time.time()\n",
    "        return_val = func(*args, **kwargs)\n",
    "        print(time.time() - start_time)\n",
    "        return return_val\n",
    "    return inner"
   ]
  },
  {
   "cell_type": "markdown",
   "id": "6f90695a",
   "metadata": {},
   "source": [
    "### tiff readers"
   ]
  },
  {
   "cell_type": "code",
   "execution_count": 60,
   "id": "7f70e689",
   "metadata": {},
   "outputs": [
    {
     "name": "stdout",
     "output_type": "stream",
     "text": [
      "1.44 s ± 14.1 ms per loop (mean ± std. dev. of 100 runs, 1 loop each)\n"
     ]
    }
   ],
   "source": [
    "%timeit -r 100 tifffile.imread(f_tiff)"
   ]
  },
  {
   "cell_type": "code",
   "execution_count": 61,
   "id": "749dc612",
   "metadata": {},
   "outputs": [
    {
     "name": "stdout",
     "output_type": "stream",
     "text": [
      "2.45 s ± 35.7 ms per loop (mean ± std. dev. of 100 runs, 1 loop each)\n"
     ]
    }
   ],
   "source": [
    "%timeit -r 100 medload(f_tiff)"
   ]
  },
  {
   "cell_type": "code",
   "execution_count": 62,
   "id": "6e09deed",
   "metadata": {},
   "outputs": [
    {
     "name": "stdout",
     "output_type": "stream",
     "text": [
      "1.44 s ± 13 ms per loop (mean ± std. dev. of 100 runs, 1 loop each)\n"
     ]
    }
   ],
   "source": [
    "%timeit -r 100 skimread(f_tiff)"
   ]
  },
  {
   "cell_type": "markdown",
   "id": "c63f0d8a",
   "metadata": {},
   "source": [
    "### nrrd readers"
   ]
  },
  {
   "cell_type": "code",
   "execution_count": 65,
   "id": "e6b16c01",
   "metadata": {},
   "outputs": [
    {
     "name": "stdout",
     "output_type": "stream",
     "text": [
      "950 ms ± 3.86 ms per loop (mean ± std. dev. of 100 runs, 1 loop each)\n"
     ]
    }
   ],
   "source": [
    "%timeit -r 100 nrrd.read(f_nrrd)"
   ]
  },
  {
   "cell_type": "code",
   "execution_count": 66,
   "id": "b7c43e49",
   "metadata": {},
   "outputs": [
    {
     "name": "stdout",
     "output_type": "stream",
     "text": [
      "2.53 s ± 30.7 ms per loop (mean ± std. dev. of 100 runs, 1 loop each)\n"
     ]
    }
   ],
   "source": [
    "%timeit -r 100 medload(f_nrrd)"
   ]
  },
  {
   "cell_type": "code",
   "execution_count": 67,
   "id": "332c07b9",
   "metadata": {},
   "outputs": [
    {
     "name": "stdout",
     "output_type": "stream",
     "text": [
      "2.54 s ± 32.4 ms per loop (mean ± std. dev. of 100 runs, 1 loop each)\n"
     ]
    }
   ],
   "source": [
    "%timeit -r 100 skimread(f_nrrd)"
   ]
  },
  {
   "cell_type": "markdown",
   "id": "6c4d9f47",
   "metadata": {},
   "source": [
    "### nii readers"
   ]
  },
  {
   "cell_type": "code",
   "execution_count": 75,
   "id": "3a1b247d",
   "metadata": {},
   "outputs": [
    {
     "name": "stdout",
     "output_type": "stream",
     "text": [
      "45.4 s ± 284 ms per loop (mean ± std. dev. of 100 runs, 1 loop each)\n"
     ]
    }
   ],
   "source": [
    "%timeit -r 100 nib.load(f_nii).get_fdata()"
   ]
  },
  {
   "cell_type": "code",
   "execution_count": 68,
   "id": "d99b5b82",
   "metadata": {},
   "outputs": [
    {
     "name": "stdout",
     "output_type": "stream",
     "text": [
      "3.54 s ± 30.7 ms per loop (mean ± std. dev. of 100 runs, 1 loop each)\n"
     ]
    }
   ],
   "source": [
    "%timeit -r 100 medload(f_nii)"
   ]
  },
  {
   "cell_type": "code",
   "execution_count": 69,
   "id": "95367f68",
   "metadata": {},
   "outputs": [
    {
     "name": "stdout",
     "output_type": "stream",
     "text": [
      "3.54 s ± 28.8 ms per loop (mean ± std. dev. of 100 runs, 1 loop each)\n"
     ]
    }
   ],
   "source": [
    "%timeit -r 100 skimread(f_nii)"
   ]
  },
  {
   "cell_type": "code",
   "execution_count": null,
   "id": "acefb496",
   "metadata": {},
   "outputs": [],
   "source": []
  }
 ],
 "metadata": {
  "kernelspec": {
   "display_name": "Python 3 (ipykernel)",
   "language": "python",
   "name": "python3"
  },
  "language_info": {
   "codemirror_mode": {
    "name": "ipython",
    "version": 3
   },
   "file_extension": ".py",
   "mimetype": "text/x-python",
   "name": "python",
   "nbconvert_exporter": "python",
   "pygments_lexer": "ipython3",
   "version": "3.8.5"
  }
 },
 "nbformat": 4,
 "nbformat_minor": 5
}
